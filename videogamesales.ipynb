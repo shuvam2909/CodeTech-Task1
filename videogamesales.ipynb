{
 "cells": [
  {
   "cell_type": "code",
   "execution_count": 1,
   "id": "40f06f84-4e9d-427b-9543-81815773f9f6",
   "metadata": {},
   "outputs": [],
   "source": [
    "import numpy as np\n",
    "import pandas as pd\n",
    "import matplotlib.pyplot as plt\n",
    "import seaborn as sns\n",
    "import warnings\n",
    "warnings.filterwarnings(\"ignore\")"
   ]
  },
  {
   "cell_type": "markdown",
   "id": "0eee4a18-1fa0-4d81-9e54-3e5b7f90cccb",
   "metadata": {},
   "source": [
    "**Loading dataset**"
   ]
  },
  {
   "cell_type": "code",
   "execution_count": 2,
   "id": "b9953a3b-421b-46fe-9996-be06a2b9c2fe",
   "metadata": {},
   "outputs": [
    {
     "data": {
      "text/html": [
       "<div>\n",
       "<style scoped>\n",
       "    .dataframe tbody tr th:only-of-type {\n",
       "        vertical-align: middle;\n",
       "    }\n",
       "\n",
       "    .dataframe tbody tr th {\n",
       "        vertical-align: top;\n",
       "    }\n",
       "\n",
       "    .dataframe thead th {\n",
       "        text-align: right;\n",
       "    }\n",
       "</style>\n",
       "<table border=\"1\" class=\"dataframe\">\n",
       "  <thead>\n",
       "    <tr style=\"text-align: right;\">\n",
       "      <th></th>\n",
       "      <th>img</th>\n",
       "      <th>title</th>\n",
       "      <th>console</th>\n",
       "      <th>genre</th>\n",
       "      <th>publisher</th>\n",
       "      <th>developer</th>\n",
       "      <th>critic_score</th>\n",
       "      <th>total_sales</th>\n",
       "      <th>na_sales</th>\n",
       "      <th>jp_sales</th>\n",
       "      <th>pal_sales</th>\n",
       "      <th>other_sales</th>\n",
       "      <th>release_date</th>\n",
       "      <th>last_update</th>\n",
       "    </tr>\n",
       "  </thead>\n",
       "  <tbody>\n",
       "    <tr>\n",
       "      <th>0</th>\n",
       "      <td>/games/boxart/full_6510540AmericaFrontccc.jpg</td>\n",
       "      <td>Grand Theft Auto V</td>\n",
       "      <td>PS3</td>\n",
       "      <td>Action</td>\n",
       "      <td>Rockstar Games</td>\n",
       "      <td>Rockstar North</td>\n",
       "      <td>9.4</td>\n",
       "      <td>20.32</td>\n",
       "      <td>6.37</td>\n",
       "      <td>0.99</td>\n",
       "      <td>9.85</td>\n",
       "      <td>3.12</td>\n",
       "      <td>2013-09-17</td>\n",
       "      <td>NaN</td>\n",
       "    </tr>\n",
       "    <tr>\n",
       "      <th>1</th>\n",
       "      <td>/games/boxart/full_5563178AmericaFrontccc.jpg</td>\n",
       "      <td>Grand Theft Auto V</td>\n",
       "      <td>PS4</td>\n",
       "      <td>Action</td>\n",
       "      <td>Rockstar Games</td>\n",
       "      <td>Rockstar North</td>\n",
       "      <td>9.7</td>\n",
       "      <td>19.39</td>\n",
       "      <td>6.06</td>\n",
       "      <td>0.60</td>\n",
       "      <td>9.71</td>\n",
       "      <td>3.02</td>\n",
       "      <td>2014-11-18</td>\n",
       "      <td>2018-01-03</td>\n",
       "    </tr>\n",
       "    <tr>\n",
       "      <th>2</th>\n",
       "      <td>/games/boxart/827563ccc.jpg</td>\n",
       "      <td>Grand Theft Auto: Vice City</td>\n",
       "      <td>PS2</td>\n",
       "      <td>Action</td>\n",
       "      <td>Rockstar Games</td>\n",
       "      <td>Rockstar North</td>\n",
       "      <td>9.6</td>\n",
       "      <td>16.15</td>\n",
       "      <td>8.41</td>\n",
       "      <td>0.47</td>\n",
       "      <td>5.49</td>\n",
       "      <td>1.78</td>\n",
       "      <td>2002-10-28</td>\n",
       "      <td>NaN</td>\n",
       "    </tr>\n",
       "    <tr>\n",
       "      <th>3</th>\n",
       "      <td>/games/boxart/full_9218923AmericaFrontccc.jpg</td>\n",
       "      <td>Grand Theft Auto V</td>\n",
       "      <td>X360</td>\n",
       "      <td>Action</td>\n",
       "      <td>Rockstar Games</td>\n",
       "      <td>Rockstar North</td>\n",
       "      <td>NaN</td>\n",
       "      <td>15.86</td>\n",
       "      <td>9.06</td>\n",
       "      <td>0.06</td>\n",
       "      <td>5.33</td>\n",
       "      <td>1.42</td>\n",
       "      <td>2013-09-17</td>\n",
       "      <td>NaN</td>\n",
       "    </tr>\n",
       "    <tr>\n",
       "      <th>4</th>\n",
       "      <td>/games/boxart/full_4990510AmericaFrontccc.jpg</td>\n",
       "      <td>Call of Duty: Black Ops 3</td>\n",
       "      <td>PS4</td>\n",
       "      <td>Shooter</td>\n",
       "      <td>Activision</td>\n",
       "      <td>Treyarch</td>\n",
       "      <td>8.1</td>\n",
       "      <td>15.09</td>\n",
       "      <td>6.18</td>\n",
       "      <td>0.41</td>\n",
       "      <td>6.05</td>\n",
       "      <td>2.44</td>\n",
       "      <td>2015-11-06</td>\n",
       "      <td>2018-01-14</td>\n",
       "    </tr>\n",
       "  </tbody>\n",
       "</table>\n",
       "</div>"
      ],
      "text/plain": [
       "                                             img                        title  \\\n",
       "0  /games/boxart/full_6510540AmericaFrontccc.jpg           Grand Theft Auto V   \n",
       "1  /games/boxart/full_5563178AmericaFrontccc.jpg           Grand Theft Auto V   \n",
       "2                    /games/boxart/827563ccc.jpg  Grand Theft Auto: Vice City   \n",
       "3  /games/boxart/full_9218923AmericaFrontccc.jpg           Grand Theft Auto V   \n",
       "4  /games/boxart/full_4990510AmericaFrontccc.jpg    Call of Duty: Black Ops 3   \n",
       "\n",
       "  console    genre       publisher       developer  critic_score  total_sales  \\\n",
       "0     PS3   Action  Rockstar Games  Rockstar North           9.4        20.32   \n",
       "1     PS4   Action  Rockstar Games  Rockstar North           9.7        19.39   \n",
       "2     PS2   Action  Rockstar Games  Rockstar North           9.6        16.15   \n",
       "3    X360   Action  Rockstar Games  Rockstar North           NaN        15.86   \n",
       "4     PS4  Shooter      Activision        Treyarch           8.1        15.09   \n",
       "\n",
       "   na_sales  jp_sales  pal_sales  other_sales release_date last_update  \n",
       "0      6.37      0.99       9.85         3.12   2013-09-17         NaN  \n",
       "1      6.06      0.60       9.71         3.02   2014-11-18  2018-01-03  \n",
       "2      8.41      0.47       5.49         1.78   2002-10-28         NaN  \n",
       "3      9.06      0.06       5.33         1.42   2013-09-17         NaN  \n",
       "4      6.18      0.41       6.05         2.44   2015-11-06  2018-01-14  "
      ]
     },
     "execution_count": 2,
     "metadata": {},
     "output_type": "execute_result"
    }
   ],
   "source": [
    "df = pd.read_csv(r\"C:\\Users\\Shuvam\\Downloads\\vgchartz-2024.csv\")\n",
    "df.head()"
   ]
  },
  {
   "cell_type": "code",
   "execution_count": 3,
   "id": "4d652571-13fe-47d4-a5eb-63632f331dba",
   "metadata": {},
   "outputs": [],
   "source": [
    "df.drop(columns=['img'],inplace = True)"
   ]
  },
  {
   "cell_type": "markdown",
   "id": "745917c0-d4ed-4d5d-bc98-56019b367552",
   "metadata": {},
   "source": [
    "# Data Understanding"
   ]
  },
  {
   "cell_type": "code",
   "execution_count": 4,
   "id": "174a2bef-b56d-4726-948e-a0068ad93c3f",
   "metadata": {},
   "outputs": [
    {
     "name": "stdout",
     "output_type": "stream",
     "text": [
      "<class 'pandas.core.frame.DataFrame'>\n",
      "RangeIndex: 64016 entries, 0 to 64015\n",
      "Data columns (total 13 columns):\n",
      " #   Column        Non-Null Count  Dtype  \n",
      "---  ------        --------------  -----  \n",
      " 0   title         64016 non-null  object \n",
      " 1   console       64016 non-null  object \n",
      " 2   genre         64016 non-null  object \n",
      " 3   publisher     64016 non-null  object \n",
      " 4   developer     63999 non-null  object \n",
      " 5   critic_score  6678 non-null   float64\n",
      " 6   total_sales   18922 non-null  float64\n",
      " 7   na_sales      12637 non-null  float64\n",
      " 8   jp_sales      6726 non-null   float64\n",
      " 9   pal_sales     12824 non-null  float64\n",
      " 10  other_sales   15128 non-null  float64\n",
      " 11  release_date  56965 non-null  object \n",
      " 12  last_update   17879 non-null  object \n",
      "dtypes: float64(6), object(7)\n",
      "memory usage: 6.3+ MB\n"
     ]
    }
   ],
   "source": [
    "df.info()"
   ]
  },
  {
   "cell_type": "code",
   "execution_count": 5,
   "id": "a0438923-5f7e-4591-b9a0-855c47cc26a8",
   "metadata": {},
   "outputs": [
    {
     "data": {
      "text/plain": [
       "Index(['title', 'console', 'genre', 'publisher', 'developer', 'critic_score',\n",
       "       'total_sales', 'na_sales', 'jp_sales', 'pal_sales', 'other_sales',\n",
       "       'release_date', 'last_update'],\n",
       "      dtype='object')"
      ]
     },
     "execution_count": 5,
     "metadata": {},
     "output_type": "execute_result"
    }
   ],
   "source": [
    "df.columns"
   ]
  },
  {
   "cell_type": "code",
   "execution_count": null,
   "id": "7932390b-2e95-4ee8-8890-ad9268f05d31",
   "metadata": {},
   "outputs": [],
   "source": []
  },
  {
   "cell_type": "code",
   "execution_count": 6,
   "id": "93184e5b-ce35-4e93-9250-ec864a46a3a1",
   "metadata": {},
   "outputs": [],
   "source": [
    "continous = ['critic_score','total_sales', 'na_sales','jp_sales', 'pal_sales', 'other_sales']\n",
    "discrete_categorical = ['title','console','genre','publisher','developer'] "
   ]
  },
  {
   "cell_type": "code",
   "execution_count": 7,
   "id": "a0c5bdd2-505a-4346-a344-2af4b8580768",
   "metadata": {},
   "outputs": [
    {
     "data": {
      "text/html": [
       "<div>\n",
       "<style scoped>\n",
       "    .dataframe tbody tr th:only-of-type {\n",
       "        vertical-align: middle;\n",
       "    }\n",
       "\n",
       "    .dataframe tbody tr th {\n",
       "        vertical-align: top;\n",
       "    }\n",
       "\n",
       "    .dataframe thead th {\n",
       "        text-align: right;\n",
       "    }\n",
       "</style>\n",
       "<table border=\"1\" class=\"dataframe\">\n",
       "  <thead>\n",
       "    <tr style=\"text-align: right;\">\n",
       "      <th></th>\n",
       "      <th>critic_score</th>\n",
       "      <th>total_sales</th>\n",
       "      <th>na_sales</th>\n",
       "      <th>jp_sales</th>\n",
       "      <th>pal_sales</th>\n",
       "      <th>other_sales</th>\n",
       "    </tr>\n",
       "  </thead>\n",
       "  <tbody>\n",
       "    <tr>\n",
       "      <th>count</th>\n",
       "      <td>6678.000000</td>\n",
       "      <td>18922.000000</td>\n",
       "      <td>12637.000000</td>\n",
       "      <td>6726.000000</td>\n",
       "      <td>12824.000000</td>\n",
       "      <td>15128.000000</td>\n",
       "    </tr>\n",
       "    <tr>\n",
       "      <th>mean</th>\n",
       "      <td>7.220440</td>\n",
       "      <td>0.349113</td>\n",
       "      <td>0.264740</td>\n",
       "      <td>0.102281</td>\n",
       "      <td>0.149472</td>\n",
       "      <td>0.043041</td>\n",
       "    </tr>\n",
       "    <tr>\n",
       "      <th>std</th>\n",
       "      <td>1.457066</td>\n",
       "      <td>0.807462</td>\n",
       "      <td>0.494787</td>\n",
       "      <td>0.168811</td>\n",
       "      <td>0.392653</td>\n",
       "      <td>0.126643</td>\n",
       "    </tr>\n",
       "    <tr>\n",
       "      <th>min</th>\n",
       "      <td>1.000000</td>\n",
       "      <td>0.000000</td>\n",
       "      <td>0.000000</td>\n",
       "      <td>0.000000</td>\n",
       "      <td>0.000000</td>\n",
       "      <td>0.000000</td>\n",
       "    </tr>\n",
       "    <tr>\n",
       "      <th>25%</th>\n",
       "      <td>6.400000</td>\n",
       "      <td>0.030000</td>\n",
       "      <td>0.050000</td>\n",
       "      <td>0.020000</td>\n",
       "      <td>0.010000</td>\n",
       "      <td>0.000000</td>\n",
       "    </tr>\n",
       "    <tr>\n",
       "      <th>50%</th>\n",
       "      <td>7.500000</td>\n",
       "      <td>0.120000</td>\n",
       "      <td>0.120000</td>\n",
       "      <td>0.040000</td>\n",
       "      <td>0.040000</td>\n",
       "      <td>0.010000</td>\n",
       "    </tr>\n",
       "    <tr>\n",
       "      <th>75%</th>\n",
       "      <td>8.300000</td>\n",
       "      <td>0.340000</td>\n",
       "      <td>0.280000</td>\n",
       "      <td>0.120000</td>\n",
       "      <td>0.140000</td>\n",
       "      <td>0.030000</td>\n",
       "    </tr>\n",
       "    <tr>\n",
       "      <th>max</th>\n",
       "      <td>10.000000</td>\n",
       "      <td>20.320000</td>\n",
       "      <td>9.760000</td>\n",
       "      <td>2.130000</td>\n",
       "      <td>9.850000</td>\n",
       "      <td>3.120000</td>\n",
       "    </tr>\n",
       "  </tbody>\n",
       "</table>\n",
       "</div>"
      ],
      "text/plain": [
       "       critic_score   total_sales      na_sales     jp_sales     pal_sales  \\\n",
       "count   6678.000000  18922.000000  12637.000000  6726.000000  12824.000000   \n",
       "mean       7.220440      0.349113      0.264740     0.102281      0.149472   \n",
       "std        1.457066      0.807462      0.494787     0.168811      0.392653   \n",
       "min        1.000000      0.000000      0.000000     0.000000      0.000000   \n",
       "25%        6.400000      0.030000      0.050000     0.020000      0.010000   \n",
       "50%        7.500000      0.120000      0.120000     0.040000      0.040000   \n",
       "75%        8.300000      0.340000      0.280000     0.120000      0.140000   \n",
       "max       10.000000     20.320000      9.760000     2.130000      9.850000   \n",
       "\n",
       "        other_sales  \n",
       "count  15128.000000  \n",
       "mean       0.043041  \n",
       "std        0.126643  \n",
       "min        0.000000  \n",
       "25%        0.000000  \n",
       "50%        0.010000  \n",
       "75%        0.030000  \n",
       "max        3.120000  "
      ]
     },
     "execution_count": 7,
     "metadata": {},
     "output_type": "execute_result"
    }
   ],
   "source": [
    "df[continous].describe()"
   ]
  },
  {
   "cell_type": "code",
   "execution_count": 8,
   "id": "1cb55b69-868c-41b0-9063-ae12a13326e7",
   "metadata": {},
   "outputs": [
    {
     "data": {
      "text/html": [
       "<div>\n",
       "<style scoped>\n",
       "    .dataframe tbody tr th:only-of-type {\n",
       "        vertical-align: middle;\n",
       "    }\n",
       "\n",
       "    .dataframe tbody tr th {\n",
       "        vertical-align: top;\n",
       "    }\n",
       "\n",
       "    .dataframe thead th {\n",
       "        text-align: right;\n",
       "    }\n",
       "</style>\n",
       "<table border=\"1\" class=\"dataframe\">\n",
       "  <thead>\n",
       "    <tr style=\"text-align: right;\">\n",
       "      <th></th>\n",
       "      <th>title</th>\n",
       "      <th>console</th>\n",
       "      <th>genre</th>\n",
       "      <th>publisher</th>\n",
       "      <th>developer</th>\n",
       "    </tr>\n",
       "  </thead>\n",
       "  <tbody>\n",
       "    <tr>\n",
       "      <th>count</th>\n",
       "      <td>64016</td>\n",
       "      <td>64016</td>\n",
       "      <td>64016</td>\n",
       "      <td>64016</td>\n",
       "      <td>63999</td>\n",
       "    </tr>\n",
       "    <tr>\n",
       "      <th>unique</th>\n",
       "      <td>39798</td>\n",
       "      <td>81</td>\n",
       "      <td>20</td>\n",
       "      <td>3383</td>\n",
       "      <td>8862</td>\n",
       "    </tr>\n",
       "    <tr>\n",
       "      <th>top</th>\n",
       "      <td>Plants vs. Zombies</td>\n",
       "      <td>PC</td>\n",
       "      <td>Misc</td>\n",
       "      <td>Unknown</td>\n",
       "      <td>Unknown</td>\n",
       "    </tr>\n",
       "    <tr>\n",
       "      <th>freq</th>\n",
       "      <td>17</td>\n",
       "      <td>12617</td>\n",
       "      <td>9304</td>\n",
       "      <td>8842</td>\n",
       "      <td>4435</td>\n",
       "    </tr>\n",
       "  </tbody>\n",
       "</table>\n",
       "</div>"
      ],
      "text/plain": [
       "                     title console  genre publisher developer\n",
       "count                64016   64016  64016     64016     63999\n",
       "unique               39798      81     20      3383      8862\n",
       "top     Plants vs. Zombies      PC   Misc   Unknown   Unknown\n",
       "freq                    17   12617   9304      8842      4435"
      ]
     },
     "execution_count": 8,
     "metadata": {},
     "output_type": "execute_result"
    }
   ],
   "source": [
    "df[discrete_categorical].describe()"
   ]
  },
  {
   "cell_type": "code",
   "execution_count": 9,
   "id": "269da57e-fc79-42a7-9393-e0bdf7c6299b",
   "metadata": {},
   "outputs": [
    {
     "data": {
      "text/plain": [
       "array(['Grand Theft Auto V', 'Grand Theft Auto: Vice City',\n",
       "       'Call of Duty: Black Ops 3', ..., 'Yoru, Tomosu',\n",
       "       'Yunohana SpRING! ~Mellow Times~',\n",
       "       'Yurukill: The Calumniation Games'], dtype=object)"
      ]
     },
     "execution_count": 9,
     "metadata": {},
     "output_type": "execute_result"
    }
   ],
   "source": [
    "df['title'].unique()"
   ]
  },
  {
   "cell_type": "code",
   "execution_count": 10,
   "id": "85c30622-1463-4522-9001-ba8c3823a1fc",
   "metadata": {},
   "outputs": [
    {
     "data": {
      "text/plain": [
       "title\n",
       "Plants vs. Zombies                  17\n",
       "Pac-Man                             16\n",
       "Monopoly                            15\n",
       "Doom                                14\n",
       "Double Dragon                       14\n",
       "                                    ..\n",
       "Bakegyamon: Ayakashi Fighting        1\n",
       "Avatar Showdown                      1\n",
       "Avatar Fighter Online                1\n",
       "Avatar Fighter                       1\n",
       "Yurukill: The Calumniation Games     1\n",
       "Name: count, Length: 39798, dtype: int64"
      ]
     },
     "execution_count": 10,
     "metadata": {},
     "output_type": "execute_result"
    }
   ],
   "source": [
    "df['title'].value_counts()"
   ]
  },
  {
   "cell_type": "code",
   "execution_count": 11,
   "id": "871b608b-4ea5-4532-a051-f187d4c5768d",
   "metadata": {},
   "outputs": [
    {
     "data": {
      "text/plain": [
       "array(['PS3', 'PS4', 'PS2', 'X360', 'XOne', 'PC', 'PSP', 'Wii', 'PS',\n",
       "       'DS', '2600', 'GBA', 'NES', 'XB', 'PSN', 'GEN', 'PSV', 'DC', 'N64',\n",
       "       'SAT', 'SNES', 'GBC', 'GC', 'NS', '3DS', 'GB', 'WiiU', 'WS', 'VC',\n",
       "       'NG', 'WW', 'SCD', 'PCE', 'XBL', '3DO', 'GG', 'OSX', 'Mob', 'PCFX',\n",
       "       'Series', 'All', 'iOS', '5200', 'And', 'DSiW', 'Lynx', 'Linux',\n",
       "       'MS', 'ZXS', 'ACPC', 'Amig', '7800', 'DSi', 'AJ', 'WinP', 'iQue',\n",
       "       'GIZ', 'VB', 'Ouya', 'NGage', 'AST', 'MSD', 'S32X', 'XS', 'PS5',\n",
       "       'Int', 'CV', 'Arc', 'C64', 'FDS', 'MSX', 'OR', 'C128', 'CDi',\n",
       "       'CD32', 'BRW', 'FMT', 'ApII', 'Aco', 'BBCM', 'TG16'], dtype=object)"
      ]
     },
     "execution_count": 11,
     "metadata": {},
     "output_type": "execute_result"
    }
   ],
   "source": [
    "df['console'].unique()"
   ]
  },
  {
   "cell_type": "code",
   "execution_count": 12,
   "id": "b5384db2-75ae-4241-9a81-1f1e3d774e74",
   "metadata": {},
   "outputs": [
    {
     "data": {
      "text/plain": [
       "console\n",
       "PC      12617\n",
       "PS2      3565\n",
       "DS       3288\n",
       "PS4      2878\n",
       "PS       2707\n",
       "        ...  \n",
       "TG16        3\n",
       "FDS         1\n",
       "C128        1\n",
       "Aco         1\n",
       "BBCM        1\n",
       "Name: count, Length: 81, dtype: int64"
      ]
     },
     "execution_count": 12,
     "metadata": {},
     "output_type": "execute_result"
    }
   ],
   "source": [
    "df['console'].value_counts()"
   ]
  },
  {
   "cell_type": "code",
   "execution_count": 13,
   "id": "8b21b85d-8953-45e1-a4e3-8f7841d4ff96",
   "metadata": {},
   "outputs": [
    {
     "data": {
      "text/plain": [
       "array(['Action', 'Shooter', 'Action-Adventure', 'Sports', 'Role-Playing',\n",
       "       'Simulation', 'Racing', 'Music', 'Misc', 'Fighting', 'Platform',\n",
       "       'Adventure', 'Strategy', 'Puzzle', 'MMO', 'Sandbox', 'Party',\n",
       "       'Education', 'Board Game', 'Visual Novel'], dtype=object)"
      ]
     },
     "execution_count": 13,
     "metadata": {},
     "output_type": "execute_result"
    }
   ],
   "source": [
    "df['genre'].unique()"
   ]
  },
  {
   "cell_type": "code",
   "execution_count": 14,
   "id": "d214dd54-cfa8-4ac8-9b15-66f045cb5ad6",
   "metadata": {},
   "outputs": [
    {
     "data": {
      "text/plain": [
       "array(['Rockstar Games', 'Activision', 'EA Sports', ...,\n",
       "       \"Mind's Eclipse Interactive\", 'Walkabout', 'InvertMouse'],\n",
       "      dtype=object)"
      ]
     },
     "execution_count": 14,
     "metadata": {},
     "output_type": "execute_result"
    }
   ],
   "source": [
    "df['publisher'].unique()"
   ]
  },
  {
   "cell_type": "code",
   "execution_count": 15,
   "id": "6c90e934-ff60-41e3-8551-b2abd57190be",
   "metadata": {},
   "outputs": [
    {
     "data": {
      "text/plain": [
       "publisher\n",
       "Unknown               8842\n",
       "Sega                  2207\n",
       "Ubisoft               1663\n",
       "Electronic Arts       1619\n",
       "Activision            1582\n",
       "                      ... \n",
       "Cancer Research UK       1\n",
       "XperimentalZ Games       1\n",
       "Nano Games               1\n",
       "Cooking Mama Ltd.        1\n",
       "PLAYDIUS                 1\n",
       "Name: count, Length: 3383, dtype: int64"
      ]
     },
     "execution_count": 15,
     "metadata": {},
     "output_type": "execute_result"
    }
   ],
   "source": [
    "df['publisher'].value_counts()"
   ]
  },
  {
   "cell_type": "code",
   "execution_count": 16,
   "id": "ab9f0cf2-0cad-4c17-a039-6c78d8c4d0fb",
   "metadata": {},
   "outputs": [
    {
     "data": {
      "text/plain": [
       "array(['Rockstar North', 'Treyarch', 'Infinity Ward', ...,\n",
       "       'Different Tales', '4D Door Games', 'InvertMouse'], dtype=object)"
      ]
     },
     "execution_count": 16,
     "metadata": {},
     "output_type": "execute_result"
    }
   ],
   "source": [
    "df['developer'].unique()"
   ]
  },
  {
   "cell_type": "code",
   "execution_count": 17,
   "id": "bacb99a3-8762-4712-b682-f699970e4609",
   "metadata": {},
   "outputs": [
    {
     "data": {
      "text/plain": [
       "developer\n",
       "Unknown             4435\n",
       "Konami               976\n",
       "Sega                 915\n",
       "Capcom               870\n",
       "Namco                489\n",
       "                    ... \n",
       "Solutions 2 Go         1\n",
       "Whampashimash          1\n",
       "Redwind Software       1\n",
       "Iron Square            1\n",
       "Paretto                1\n",
       "Name: count, Length: 8862, dtype: int64"
      ]
     },
     "execution_count": 17,
     "metadata": {},
     "output_type": "execute_result"
    }
   ],
   "source": [
    "df['developer'].value_counts()"
   ]
  },
  {
   "cell_type": "code",
   "execution_count": 18,
   "id": "e7851d21-5d78-4596-bda4-21e73d5daec8",
   "metadata": {},
   "outputs": [
    {
     "data": {
      "text/plain": [
       "count          56965\n",
       "unique          7922\n",
       "top       1994-01-01\n",
       "freq             515\n",
       "Name: release_date, dtype: object"
      ]
     },
     "execution_count": 18,
     "metadata": {},
     "output_type": "execute_result"
    }
   ],
   "source": [
    "df['release_date'].describe()"
   ]
  },
  {
   "cell_type": "code",
   "execution_count": 19,
   "id": "1cc44a0a-0569-4ff6-ae3f-2d1e727beb60",
   "metadata": {},
   "outputs": [
    {
     "data": {
      "text/plain": [
       "['title', 'console', 'genre', 'publisher', 'developer']"
      ]
     },
     "execution_count": 19,
     "metadata": {},
     "output_type": "execute_result"
    }
   ],
   "source": [
    "['title','console','genre','publisher','developer'] "
   ]
  },
  {
   "cell_type": "code",
   "execution_count": 47,
   "id": "e87e8fc1-6018-4eab-a5bd-36d2e260df14",
   "metadata": {},
   "outputs": [
    {
     "data": {
      "text/plain": [
       "<Axes: xlabel='count', ylabel='genre'>"
      ]
     },
     "execution_count": 47,
     "metadata": {},
     "output_type": "execute_result"
    },
    {
     "data": {
      "image/png": "[encoded data removed]",
      "text/plain": [
       "<Figure size 640x480 with 1 Axes>"
      ]
     },
     "metadata": {},
     "output_type": "display_data"
    }
   ],
   "source": [
    "\n",
    "sns.countplot(df['genre'])\n",
    "\n",
    "\n"
   ]
  },
  {
   "cell_type": "code",
   "execution_count": 21,
   "id": "95f01c8b-47af-45b2-9dd2-24bc15312e59",
   "metadata": {},
   "outputs": [
    {
     "data": {
      "text/plain": [
       "<Axes: xlabel='other_sales', ylabel='Count'>"
      ]
     },
     "execution_count": 21,
     "metadata": {},
     "output_type": "execute_result"
    },
    {
     "data": {
      "image/png": "[encoded data removed]",
      "text/plain": [
       "<Figure size 1400x800 with 6 Axes>"
      ]
     },
     "metadata": {},
     "output_type": "display_data"
    }
   ],
   "source": [
    "# to visualise skewness \n",
    "plt.figure(figsize=(14,8))\n",
    "\n",
    "plt.subplot(2,3,1)\n",
    "sns.histplot(df['critic_score'],kde=1)\n",
    "\n",
    "plt.subplot(2,3,2)\n",
    "sns.histplot(df['total_sales'],kde=1)\n",
    "\n",
    "plt.subplot(2,3,3)\n",
    "sns.histplot(df['na_sales'],kde=1)\n",
    "\n",
    "plt.subplot(2,3,4)\n",
    "sns.histplot(df['jp_sales'],kde=1)\n",
    "\n",
    "plt.subplot(2,3,5)\n",
    "sns.histplot(df['pal_sales'],kde=1)\n",
    "\n",
    "plt.subplot(2,3,6)\n",
    "sns.histplot(df['other_sales'],kde=1)"
   ]
  },
  {
   "cell_type": "code",
   "execution_count": 22,
   "id": "fe106795-1eeb-489e-88d8-1165017466c5",
   "metadata": {},
   "outputs": [
    {
     "data": {
      "text/plain": [
       "critic_score   -0.910637\n",
       "total_sales     8.775333\n",
       "na_sales        6.898373\n",
       "jp_sales        4.490406\n",
       "pal_sales       9.586910\n",
       "other_sales     9.794550\n",
       "dtype: float64"
      ]
     },
     "execution_count": 22,
     "metadata": {},
     "output_type": "execute_result"
    }
   ],
   "source": [
    "df[continous].skew()"
   ]
  },
  {
   "cell_type": "code",
   "execution_count": 23,
   "id": "de4958d9-3e88-4dba-9a97-7f3fc31c6e3b",
   "metadata": {},
   "outputs": [
    {
     "data": {
      "text/html": [
       "<div>\n",
       "<style scoped>\n",
       "    .dataframe tbody tr th:only-of-type {\n",
       "        vertical-align: middle;\n",
       "    }\n",
       "\n",
       "    .dataframe tbody tr th {\n",
       "        vertical-align: top;\n",
       "    }\n",
       "\n",
       "    .dataframe thead th {\n",
       "        text-align: right;\n",
       "    }\n",
       "</style>\n",
       "<table border=\"1\" class=\"dataframe\">\n",
       "  <thead>\n",
       "    <tr style=\"text-align: right;\">\n",
       "      <th></th>\n",
       "      <th>critic_score</th>\n",
       "      <th>total_sales</th>\n",
       "      <th>na_sales</th>\n",
       "      <th>jp_sales</th>\n",
       "      <th>pal_sales</th>\n",
       "      <th>other_sales</th>\n",
       "    </tr>\n",
       "  </thead>\n",
       "  <tbody>\n",
       "    <tr>\n",
       "      <th>critic_score</th>\n",
       "      <td>1.000000</td>\n",
       "      <td>0.281166</td>\n",
       "      <td>0.300289</td>\n",
       "      <td>0.147448</td>\n",
       "      <td>0.246694</td>\n",
       "      <td>0.243847</td>\n",
       "    </tr>\n",
       "    <tr>\n",
       "      <th>total_sales</th>\n",
       "      <td>0.281166</td>\n",
       "      <td>1.000000</td>\n",
       "      <td>0.914149</td>\n",
       "      <td>0.212469</td>\n",
       "      <td>0.907421</td>\n",
       "      <td>0.859329</td>\n",
       "    </tr>\n",
       "    <tr>\n",
       "      <th>na_sales</th>\n",
       "      <td>0.300289</td>\n",
       "      <td>0.914149</td>\n",
       "      <td>1.000000</td>\n",
       "      <td>0.065091</td>\n",
       "      <td>0.684517</td>\n",
       "      <td>0.687512</td>\n",
       "    </tr>\n",
       "    <tr>\n",
       "      <th>jp_sales</th>\n",
       "      <td>0.147448</td>\n",
       "      <td>0.212469</td>\n",
       "      <td>0.065091</td>\n",
       "      <td>1.000000</td>\n",
       "      <td>0.131796</td>\n",
       "      <td>0.082653</td>\n",
       "    </tr>\n",
       "    <tr>\n",
       "      <th>pal_sales</th>\n",
       "      <td>0.246694</td>\n",
       "      <td>0.907421</td>\n",
       "      <td>0.684517</td>\n",
       "      <td>0.131796</td>\n",
       "      <td>1.000000</td>\n",
       "      <td>0.817030</td>\n",
       "    </tr>\n",
       "    <tr>\n",
       "      <th>other_sales</th>\n",
       "      <td>0.243847</td>\n",
       "      <td>0.859329</td>\n",
       "      <td>0.687512</td>\n",
       "      <td>0.082653</td>\n",
       "      <td>0.817030</td>\n",
       "      <td>1.000000</td>\n",
       "    </tr>\n",
       "  </tbody>\n",
       "</table>\n",
       "</div>"
      ],
      "text/plain": [
       "              critic_score  total_sales  na_sales  jp_sales  pal_sales  \\\n",
       "critic_score      1.000000     0.281166  0.300289  0.147448   0.246694   \n",
       "total_sales       0.281166     1.000000  0.914149  0.212469   0.907421   \n",
       "na_sales          0.300289     0.914149  1.000000  0.065091   0.684517   \n",
       "jp_sales          0.147448     0.212469  0.065091  1.000000   0.131796   \n",
       "pal_sales         0.246694     0.907421  0.684517  0.131796   1.000000   \n",
       "other_sales       0.243847     0.859329  0.687512  0.082653   0.817030   \n",
       "\n",
       "              other_sales  \n",
       "critic_score     0.243847  \n",
       "total_sales      0.859329  \n",
       "na_sales         0.687512  \n",
       "jp_sales         0.082653  \n",
       "pal_sales        0.817030  \n",
       "other_sales      1.000000  "
      ]
     },
     "execution_count": 23,
     "metadata": {},
     "output_type": "execute_result"
    }
   ],
   "source": [
    "df[continous].corr()"
   ]
  },
  {
   "cell_type": "code",
   "execution_count": 24,
   "id": "aca8252c-cf75-458e-b297-55bc75ab9b45",
   "metadata": {},
   "outputs": [
    {
     "data": {
      "text/plain": [
       "title               0\n",
       "console             0\n",
       "genre               0\n",
       "publisher           0\n",
       "developer          17\n",
       "critic_score    57338\n",
       "total_sales     45094\n",
       "na_sales        51379\n",
       "jp_sales        57290\n",
       "pal_sales       51192\n",
       "other_sales     48888\n",
       "release_date     7051\n",
       "last_update     46137\n",
       "dtype: int64"
      ]
     },
     "execution_count": 24,
     "metadata": {},
     "output_type": "execute_result"
    }
   ],
   "source": [
    "df.isnull().sum()"
   ]
  },
  {
   "cell_type": "code",
   "execution_count": 25,
   "id": "ad008bc1-4318-4745-96f4-e1359fefbceb",
   "metadata": {},
   "outputs": [
    {
     "data": {
      "text/plain": [
       "18"
      ]
     },
     "execution_count": 25,
     "metadata": {},
     "output_type": "execute_result"
    }
   ],
   "source": [
    "df.duplicated().sum()"
   ]
  },
  {
   "cell_type": "markdown",
   "id": "a8e5f7d6-7ade-40ef-9d3a-768f9f47d65a",
   "metadata": {},
   "source": [
    "# Data Preprocessing"
   ]
  },
  {
   "cell_type": "markdown",
   "id": "7836e209-bb3d-44f4-b9c8-8d5a07c94a19",
   "metadata": {},
   "source": [
    "**Missing values treatment**"
   ]
  },
  {
   "cell_type": "code",
   "execution_count": 26,
   "id": "0c1d46b8-6c68-474c-90a8-9cfc7778c29d",
   "metadata": {},
   "outputs": [],
   "source": [
    "# null values are  filled with mean because this feature is continous\n",
    "df['critic_score'].fillna(df['critic_score'].mean(),inplace=True)"
   ]
  },
  {
   "cell_type": "code",
   "execution_count": 27,
   "id": "f35fb3b1-88c0-4f1f-80b8-8d5338d9e77b",
   "metadata": {},
   "outputs": [],
   "source": [
    "# null values are filled with 0 because of business problem\n",
    "df[['total_sales', 'na_sales','jp_sales', 'pal_sales', 'other_sales']]=df[['total_sales', 'na_sales','jp_sales', 'pal_sales', 'other_sales']].fillna(value=0)"
   ]
  },
  {
   "cell_type": "code",
   "execution_count": 28,
   "id": "87223315-9b0f-49c7-8ae4-dc825f2d3a75",
   "metadata": {},
   "outputs": [],
   "source": [
    "df.drop(columns=['last_update'],inplace=True)"
   ]
  },
  {
   "cell_type": "code",
   "execution_count": 29,
   "id": "51465de6-7f57-4808-8495-2fe31b42699f",
   "metadata": {},
   "outputs": [],
   "source": [
    "df.dropna(inplace=True)"
   ]
  },
  {
   "cell_type": "code",
   "execution_count": 30,
   "id": "118dc012-b598-4ae5-a0f8-0ca6b463d79e",
   "metadata": {},
   "outputs": [
    {
     "data": {
      "text/plain": [
       "0       2013-09-17\n",
       "1       2014-11-18\n",
       "2       2002-10-28\n",
       "3       2013-09-17\n",
       "4       2015-11-06\n",
       "           ...    \n",
       "64010   2018-04-26\n",
       "64011   2016-08-11\n",
       "64012   2020-07-30\n",
       "64013   2020-07-30\n",
       "64014   2019-02-28\n",
       "Name: release_date, Length: 56954, dtype: datetime64[ns]"
      ]
     },
     "execution_count": 30,
     "metadata": {},
     "output_type": "execute_result"
    }
   ],
   "source": [
    "df['release_date']=pd.to_datetime(df['release_date'],dayfirst=True)\n",
    "df['release_date']"
   ]
  },
  {
   "cell_type": "code",
   "execution_count": 31,
   "id": "fb4ecca1-1a1e-4007-9aed-8162b561fde9",
   "metadata": {},
   "outputs": [],
   "source": [
    "df['release_year'] = df['release_date'].dt.year"
   ]
  },
  {
   "cell_type": "code",
   "execution_count": 32,
   "id": "c50f2c30-de76-4734-aaf8-7665eb13371c",
   "metadata": {},
   "outputs": [
    {
     "data": {
      "text/plain": [
       "0.0"
      ]
     },
     "execution_count": 32,
     "metadata": {},
     "output_type": "execute_result"
    }
   ],
   "source": [
    "df['release_date'].isnull().sum()/len(df)*100"
   ]
  },
  {
   "cell_type": "code",
   "execution_count": 33,
   "id": "7eae2224-545d-430e-8fcf-afc607d2bd72",
   "metadata": {},
   "outputs": [],
   "source": [
    "df = df.drop_duplicates()"
   ]
  },
  {
   "cell_type": "markdown",
   "id": "b3f8b82b-a209-459f-89a9-2ae6be16dd09",
   "metadata": {},
   "source": [
    "# Exploratary Data Analysis"
   ]
  },
  {
   "cell_type": "code",
   "execution_count": 34,
   "id": "3cbfc24c-2d67-483b-a784-6645956c24bd",
   "metadata": {},
   "outputs": [
    {
     "data": {
      "text/plain": [
       "title\n",
       "Grand Theft Auto V                  64.29\n",
       "Call of Duty: Black Ops             30.99\n",
       "Call of Duty: Modern Warfare 3      30.71\n",
       "Call of Duty: Black Ops II          29.59\n",
       "Call of Duty: Ghosts                28.80\n",
       "Call of Duty: Black Ops 3           26.72\n",
       "Call of Duty: Modern Warfare 2      25.02\n",
       "Minecraft                           24.01\n",
       "Grand Theft Auto IV                 22.53\n",
       "Call of Duty: Advanced Warfare      21.78\n",
       "The Elder Scrolls V: Skyrim         20.51\n",
       "Call of Duty: WWII                  19.82\n",
       "Red Dead Redemption 2               19.71\n",
       "Call of Duty 4: Modern Warfare      18.33\n",
       "FIFA 15                             18.03\n",
       "Battlefield 3                       17.32\n",
       "FIFA 14                             17.31\n",
       "FIFA 17                             17.02\n",
       "FIFA 18                             16.92\n",
       "Guitar Hero III: Legends of Rock    16.38\n",
       "Name: total_sales, dtype: float64"
      ]
     },
     "execution_count": 34,
     "metadata": {},
     "output_type": "execute_result"
    }
   ],
   "source": [
    "df.groupby('title')['total_sales'].sum().sort_values(ascending=False).head(20)"
   ]
  },
  {
   "cell_type": "code",
   "execution_count": 35,
   "id": "ac7e830f-7cb4-4b51-a330-f81081286d4e",
   "metadata": {},
   "outputs": [
    {
     "data": {
      "text/plain": [
       "genre\n",
       "Sports              1186.70\n",
       "Action              1124.95\n",
       "Shooter              995.47\n",
       "Misc                 556.75\n",
       "Racing               523.51\n",
       "Role-Playing         425.86\n",
       "Platform             349.15\n",
       "Fighting             340.39\n",
       "Adventure            325.09\n",
       "Simulation           300.48\n",
       "Action-Adventure     148.52\n",
       "Puzzle               127.06\n",
       "Strategy             118.17\n",
       "Music                 51.75\n",
       "MMO                    9.31\n",
       "Party                  6.21\n",
       "Visual Novel           5.78\n",
       "Sandbox                1.89\n",
       "Education              0.97\n",
       "Board Game             0.33\n",
       "Name: total_sales, dtype: float64"
      ]
     },
     "execution_count": 35,
     "metadata": {},
     "output_type": "execute_result"
    }
   ],
   "source": [
    "df.groupby('genre')['total_sales'].sum().sort_values(ascending=False).head(20)"
   ]
  },
  {
   "cell_type": "code",
   "execution_count": 36,
   "id": "dfb6d55a-5bea-4e83-a96d-cbf72272ee6b",
   "metadata": {},
   "outputs": [
    {
     "data": {
      "text/plain": [
       "genre\n",
       "Role-Playing    130.04\n",
       "Sports          108.93\n",
       "Action           79.79\n",
       "Fighting         58.12\n",
       "Misc             55.50\n",
       "Name: jp_sales, dtype: float64"
      ]
     },
     "execution_count": 36,
     "metadata": {},
     "output_type": "execute_result"
    }
   ],
   "source": [
    "df.groupby('genre')['jp_sales'].sum().sort_values(ascending=False).head()"
   ]
  },
  {
   "cell_type": "code",
   "execution_count": 37,
   "id": "b9f2923f-c378-426d-8719-3056a5f4ee35",
   "metadata": {},
   "outputs": [
    {
     "data": {
      "text/plain": [
       "genre\n",
       "Sports     607.45\n",
       "Action     589.33\n",
       "Shooter    528.27\n",
       "Misc       295.52\n",
       "Racing     269.72\n",
       "Name: na_sales, dtype: float64"
      ]
     },
     "execution_count": 37,
     "metadata": {},
     "output_type": "execute_result"
    }
   ],
   "source": [
    "df.groupby('genre')['na_sales'].sum().sort_values(ascending=False).head()"
   ]
  },
  {
   "cell_type": "code",
   "execution_count": 38,
   "id": "33e10cef-6ba5-4ad8-977b-79c90bfd7186",
   "metadata": {},
   "outputs": [],
   "source": [
    "Grand_theft_Auto_V = df[df['title'] == 'Grand Theft Auto V']\n"
   ]
  },
  {
   "cell_type": "code",
   "execution_count": 39,
   "id": "04d944c1-e298-40cb-834f-b0f727199053",
   "metadata": {},
   "outputs": [
    {
     "data": {
      "text/plain": [
       "684.24"
      ]
     },
     "execution_count": 39,
     "metadata": {},
     "output_type": "execute_result"
    }
   ],
   "source": [
    "df['jp_sales'].sum()"
   ]
  },
  {
   "cell_type": "code",
   "execution_count": 40,
   "id": "00c41125-fd1e-4303-b466-92cb941b52f0",
   "metadata": {},
   "outputs": [
    {
     "data": {
      "text/plain": [
       "3344.54"
      ]
     },
     "execution_count": 40,
     "metadata": {},
     "output_type": "execute_result"
    }
   ],
   "source": [
    "df['na_sales'].sum()"
   ]
  },
  {
   "cell_type": "code",
   "execution_count": 41,
   "id": "5cdc8ebb-2e25-4e21-b599-3cdc5467645e",
   "metadata": {},
   "outputs": [
    {
     "data": {
      "text/plain": [
       "6598.339999999999"
      ]
     },
     "execution_count": 41,
     "metadata": {},
     "output_type": "execute_result"
    }
   ],
   "source": [
    "df['total_sales'].sum()"
   ]
  },
  {
   "cell_type": "code",
   "execution_count": 42,
   "id": "e866d352-ac8d-428c-96f5-2cc765f29f28",
   "metadata": {},
   "outputs": [
    {
     "data": {
      "text/plain": [
       "1914.64"
      ]
     },
     "execution_count": 42,
     "metadata": {},
     "output_type": "execute_result"
    }
   ],
   "source": [
    "df['pal_sales'].sum()"
   ]
  },
  {
   "cell_type": "code",
   "execution_count": 48,
   "id": "4285948e-2408-416f-964f-9fad204cfaf6",
   "metadata": {},
   "outputs": [],
   "source": [
    "df.to_csv('videogamesSalesAnalysis.csv',index=False)"
   ]
  },
  {
   "cell_type": "code",
   "execution_count": 44,
   "id": "0352d48a-2686-4ca9-a866-bb393dd4c7ed",
   "metadata": {},
   "outputs": [],
   "source": []
  },
  {
   "cell_type": "code",
   "execution_count": 45,
   "id": "a9cb1ae0-5cfd-4865-b5c5-ed7f57d11484",
   "metadata": {},
   "outputs": [
    {
     "data": {
      "text/html": [
       "<div>\n",
       "<style scoped>\n",
       "    .dataframe tbody tr th:only-of-type {\n",
       "        vertical-align: middle;\n",
       "    }\n",
       "\n",
       "    .dataframe tbody tr th {\n",
       "        vertical-align: top;\n",
       "    }\n",
       "\n",
       "    .dataframe thead th {\n",
       "        text-align: right;\n",
       "    }\n",
       "</style>\n",
       "<table border=\"1\" class=\"dataframe\">\n",
       "  <thead>\n",
       "    <tr style=\"text-align: right;\">\n",
       "      <th></th>\n",
       "      <th>title</th>\n",
       "      <th>console</th>\n",
       "      <th>genre</th>\n",
       "      <th>publisher</th>\n",
       "      <th>developer</th>\n",
       "      <th>critic_score</th>\n",
       "      <th>total_sales</th>\n",
       "      <th>na_sales</th>\n",
       "      <th>jp_sales</th>\n",
       "      <th>pal_sales</th>\n",
       "      <th>other_sales</th>\n",
       "      <th>release_date</th>\n",
       "      <th>release_year</th>\n",
       "    </tr>\n",
       "  </thead>\n",
       "  <tbody>\n",
       "    <tr>\n",
       "      <th>0</th>\n",
       "      <td>Grand Theft Auto V</td>\n",
       "      <td>PS3</td>\n",
       "      <td>Action</td>\n",
       "      <td>Rockstar Games</td>\n",
       "      <td>Rockstar North</td>\n",
       "      <td>9.40000</td>\n",
       "      <td>20.32</td>\n",
       "      <td>6.37</td>\n",
       "      <td>0.99</td>\n",
       "      <td>9.85</td>\n",
       "      <td>3.12</td>\n",
       "      <td>2013-09-17</td>\n",
       "      <td>2013</td>\n",
       "    </tr>\n",
       "    <tr>\n",
       "      <th>1</th>\n",
       "      <td>Grand Theft Auto V</td>\n",
       "      <td>PS4</td>\n",
       "      <td>Action</td>\n",
       "      <td>Rockstar Games</td>\n",
       "      <td>Rockstar North</td>\n",
       "      <td>9.70000</td>\n",
       "      <td>19.39</td>\n",
       "      <td>6.06</td>\n",
       "      <td>0.60</td>\n",
       "      <td>9.71</td>\n",
       "      <td>3.02</td>\n",
       "      <td>2014-11-18</td>\n",
       "      <td>2014</td>\n",
       "    </tr>\n",
       "    <tr>\n",
       "      <th>2</th>\n",
       "      <td>Grand Theft Auto: Vice City</td>\n",
       "      <td>PS2</td>\n",
       "      <td>Action</td>\n",
       "      <td>Rockstar Games</td>\n",
       "      <td>Rockstar North</td>\n",
       "      <td>9.60000</td>\n",
       "      <td>16.15</td>\n",
       "      <td>8.41</td>\n",
       "      <td>0.47</td>\n",
       "      <td>5.49</td>\n",
       "      <td>1.78</td>\n",
       "      <td>2002-10-28</td>\n",
       "      <td>2002</td>\n",
       "    </tr>\n",
       "    <tr>\n",
       "      <th>3</th>\n",
       "      <td>Grand Theft Auto V</td>\n",
       "      <td>X360</td>\n",
       "      <td>Action</td>\n",
       "      <td>Rockstar Games</td>\n",
       "      <td>Rockstar North</td>\n",
       "      <td>7.22044</td>\n",
       "      <td>15.86</td>\n",
       "      <td>9.06</td>\n",
       "      <td>0.06</td>\n",
       "      <td>5.33</td>\n",
       "      <td>1.42</td>\n",
       "      <td>2013-09-17</td>\n",
       "      <td>2013</td>\n",
       "    </tr>\n",
       "    <tr>\n",
       "      <th>4</th>\n",
       "      <td>Call of Duty: Black Ops 3</td>\n",
       "      <td>PS4</td>\n",
       "      <td>Shooter</td>\n",
       "      <td>Activision</td>\n",
       "      <td>Treyarch</td>\n",
       "      <td>8.10000</td>\n",
       "      <td>15.09</td>\n",
       "      <td>6.18</td>\n",
       "      <td>0.41</td>\n",
       "      <td>6.05</td>\n",
       "      <td>2.44</td>\n",
       "      <td>2015-11-06</td>\n",
       "      <td>2015</td>\n",
       "    </tr>\n",
       "    <tr>\n",
       "      <th>...</th>\n",
       "      <td>...</td>\n",
       "      <td>...</td>\n",
       "      <td>...</td>\n",
       "      <td>...</td>\n",
       "      <td>...</td>\n",
       "      <td>...</td>\n",
       "      <td>...</td>\n",
       "      <td>...</td>\n",
       "      <td>...</td>\n",
       "      <td>...</td>\n",
       "      <td>...</td>\n",
       "      <td>...</td>\n",
       "      <td>...</td>\n",
       "    </tr>\n",
       "    <tr>\n",
       "      <th>56926</th>\n",
       "      <td>World End Syndrome</td>\n",
       "      <td>PS4</td>\n",
       "      <td>Visual Novel</td>\n",
       "      <td>Arc System Works</td>\n",
       "      <td>Arc System Works</td>\n",
       "      <td>7.22044</td>\n",
       "      <td>0.00</td>\n",
       "      <td>0.00</td>\n",
       "      <td>0.00</td>\n",
       "      <td>0.00</td>\n",
       "      <td>0.00</td>\n",
       "      <td>2018-04-26</td>\n",
       "      <td>2018</td>\n",
       "    </tr>\n",
       "    <tr>\n",
       "      <th>56927</th>\n",
       "      <td>XBlaze Lost: Memories</td>\n",
       "      <td>PC</td>\n",
       "      <td>Visual Novel</td>\n",
       "      <td>Aksys Games</td>\n",
       "      <td>Arc System Works</td>\n",
       "      <td>7.22044</td>\n",
       "      <td>0.00</td>\n",
       "      <td>0.00</td>\n",
       "      <td>0.00</td>\n",
       "      <td>0.00</td>\n",
       "      <td>0.00</td>\n",
       "      <td>2016-08-11</td>\n",
       "      <td>2016</td>\n",
       "    </tr>\n",
       "    <tr>\n",
       "      <th>56928</th>\n",
       "      <td>Yoru, Tomosu</td>\n",
       "      <td>PS4</td>\n",
       "      <td>Visual Novel</td>\n",
       "      <td>Nippon Ichi Software</td>\n",
       "      <td>Nippon Ichi Software</td>\n",
       "      <td>7.22044</td>\n",
       "      <td>0.00</td>\n",
       "      <td>0.00</td>\n",
       "      <td>0.00</td>\n",
       "      <td>0.00</td>\n",
       "      <td>0.00</td>\n",
       "      <td>2020-07-30</td>\n",
       "      <td>2020</td>\n",
       "    </tr>\n",
       "    <tr>\n",
       "      <th>56929</th>\n",
       "      <td>Yoru, Tomosu</td>\n",
       "      <td>NS</td>\n",
       "      <td>Visual Novel</td>\n",
       "      <td>Nippon Ichi Software</td>\n",
       "      <td>Nippon Ichi Software</td>\n",
       "      <td>7.22044</td>\n",
       "      <td>0.00</td>\n",
       "      <td>0.00</td>\n",
       "      <td>0.00</td>\n",
       "      <td>0.00</td>\n",
       "      <td>0.00</td>\n",
       "      <td>2020-07-30</td>\n",
       "      <td>2020</td>\n",
       "    </tr>\n",
       "    <tr>\n",
       "      <th>56930</th>\n",
       "      <td>Yunohana SpRING! ~Mellow Times~</td>\n",
       "      <td>NS</td>\n",
       "      <td>Visual Novel</td>\n",
       "      <td>Idea Factory</td>\n",
       "      <td>Otomate</td>\n",
       "      <td>7.22044</td>\n",
       "      <td>0.00</td>\n",
       "      <td>0.00</td>\n",
       "      <td>0.00</td>\n",
       "      <td>0.00</td>\n",
       "      <td>0.00</td>\n",
       "      <td>2019-02-28</td>\n",
       "      <td>2019</td>\n",
       "    </tr>\n",
       "  </tbody>\n",
       "</table>\n",
       "<p>56931 rows × 13 columns</p>\n",
       "</div>"
      ],
      "text/plain": [
       "                                 title console         genre  \\\n",
       "0                   Grand Theft Auto V     PS3        Action   \n",
       "1                   Grand Theft Auto V     PS4        Action   \n",
       "2          Grand Theft Auto: Vice City     PS2        Action   \n",
       "3                   Grand Theft Auto V    X360        Action   \n",
       "4            Call of Duty: Black Ops 3     PS4       Shooter   \n",
       "...                                ...     ...           ...   \n",
       "56926               World End Syndrome     PS4  Visual Novel   \n",
       "56927            XBlaze Lost: Memories      PC  Visual Novel   \n",
       "56928                     Yoru, Tomosu     PS4  Visual Novel   \n",
       "56929                     Yoru, Tomosu      NS  Visual Novel   \n",
       "56930  Yunohana SpRING! ~Mellow Times~      NS  Visual Novel   \n",
       "\n",
       "                  publisher             developer  critic_score  total_sales  \\\n",
       "0            Rockstar Games        Rockstar North       9.40000        20.32   \n",
       "1            Rockstar Games        Rockstar North       9.70000        19.39   \n",
       "2            Rockstar Games        Rockstar North       9.60000        16.15   \n",
       "3            Rockstar Games        Rockstar North       7.22044        15.86   \n",
       "4                Activision              Treyarch       8.10000        15.09   \n",
       "...                     ...                   ...           ...          ...   \n",
       "56926      Arc System Works      Arc System Works       7.22044         0.00   \n",
       "56927           Aksys Games      Arc System Works       7.22044         0.00   \n",
       "56928  Nippon Ichi Software  Nippon Ichi Software       7.22044         0.00   \n",
       "56929  Nippon Ichi Software  Nippon Ichi Software       7.22044         0.00   \n",
       "56930          Idea Factory               Otomate       7.22044         0.00   \n",
       "\n",
       "       na_sales  jp_sales  pal_sales  other_sales release_date  release_year  \n",
       "0          6.37      0.99       9.85         3.12   2013-09-17          2013  \n",
       "1          6.06      0.60       9.71         3.02   2014-11-18          2014  \n",
       "2          8.41      0.47       5.49         1.78   2002-10-28          2002  \n",
       "3          9.06      0.06       5.33         1.42   2013-09-17          2013  \n",
       "4          6.18      0.41       6.05         2.44   2015-11-06          2015  \n",
       "...         ...       ...        ...          ...          ...           ...  \n",
       "56926      0.00      0.00       0.00         0.00   2018-04-26          2018  \n",
       "56927      0.00      0.00       0.00         0.00   2016-08-11          2016  \n",
       "56928      0.00      0.00       0.00         0.00   2020-07-30          2020  \n",
       "56929      0.00      0.00       0.00         0.00   2020-07-30          2020  \n",
       "56930      0.00      0.00       0.00         0.00   2019-02-28          2019  \n",
       "\n",
       "[56931 rows x 13 columns]"
      ]
     },
     "execution_count": 45,
     "metadata": {},
     "output_type": "execute_result"
    }
   ],
   "source": [
    "df1"
   ]
  },
  {
   "cell_type": "code",
   "execution_count": 46,
   "id": "b09932e2-d054-4ad1-a505-905d925e2f9b",
   "metadata": {},
   "outputs": [
    {
     "name": "stdout",
     "output_type": "stream",
     "text": [
      "C:\\Users\\Shuvam\n"
     ]
    }
   ],
   "source": [
    "import os\n",
    "print(os.getcwd())"
   ]
  },
  {
   "cell_type": "code",
   "execution_count": null,
   "id": "fd6ea55b-131f-4780-89f7-997e5adbd060",
   "metadata": {},
   "outputs": [],
   "source": []
  }
 ],
 "metadata": {
  "kernelspec": {
   "display_name": "Python 3 (ipykernel)",
   "language": "python",
   "name": "python3"
  },
  "language_info": {
   "codemirror_mode": {
    "name": "ipython",
    "version": 3
   },
   "file_extension": ".py",
   "mimetype": "text/x-python",
   "name": "python",
   "nbconvert_exporter": "python",
   "pygments_lexer": "ipython3",
   "version": "3.11.7"
  }
 },
 "nbformat": 4,
 "nbformat_minor": 5
}
